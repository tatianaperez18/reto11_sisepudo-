{
 "cells": [
  {
   "cell_type": "markdown",
   "metadata": {},
   "source": [
    "### suma de matrices"
   ]
  },
  {
   "cell_type": "code",
   "execution_count": 32,
   "metadata": {},
   "outputs": [
    {
     "name": "stdout",
     "output_type": "stream",
     "text": [
      "[ [32, 25, 56, 72] ]\n",
      "[ [28, 26, 46, 24] ]\n",
      "[ [35, 15, 36, 32] ]\n"
     ]
    }
   ],
   "source": [
    "def sumar_matrices(a, b):\n",
    "    #comprueba que la matriz tenga las misma dimenciones\n",
    "    if len(a) != len(b):\n",
    "        raise Exception('las dos matrices deben tener la misma cantidad de filas.')\n",
    "\n",
    "    if len(a[0]) != len(b[0]):\n",
    "        raise Exception('las dos matrices deben tener la misma cantidad de columnas.')\n",
    "    \n",
    "    #iniciar la matriz en ceros     \n",
    "    resultado = [[0 for _ in range(len(a[0]))] for _ in range(len(a))]\n",
    "\n",
    "    # Realizar la suma elemento a elemento\n",
    "    for i in range(len(a)):\n",
    "        for j in range(len(a[0])):\n",
    "            resultado[i][j] = a[i][j] + b[i][j]\n",
    "\n",
    "    return resultado\n",
    "\n",
    "if __name__ == \"__main__\":\n",
    "#matrices\n",
    "    a = [[21, 18, 35, 40],\n",
    "        [19, 11, 21, 14],\n",
    "        [12, 15, 24, 10]]\n",
    "    b = [[11, 7, 21, 32],\n",
    "        [9, 15, 25, 10],\n",
    "        [23, 0, 12, 22]]\n",
    "#llama la funcion   \n",
    "c = sumar_matrices(a, b)\n",
    "#imprime la matriz\n",
    "for fila in c:\n",
    "        print(\"[\", end=\" \")\n",
    "        print(fila, end=\" \")\n",
    "        print(\"]\")"
   ]
  },
  {
   "cell_type": "markdown",
   "metadata": {},
   "source": [
    "### multiplicacion de matrices"
   ]
  },
  {
   "cell_type": "code",
   "execution_count": 33,
   "metadata": {},
   "outputs": [
    {
     "name": "stdout",
     "output_type": "stream",
     "text": [
      "[ [393, 417, 891] ]\n",
      "[ [308, 298, 674] ]\n",
      "[ [267, 309, 627] ]\n"
     ]
    }
   ],
   "source": [
    "def multiplicar_matrices(a, b):\n",
    "    #comprueba que la matriz tenga las mimas dimenciones para este caso\n",
    "    if len(a[0]) != len(b):\n",
    "        raise Exception('El numero de columnas de la primera matriz debe ser igual al numero de filas de la segunda matriz para realizar la multiplicacion.')\n",
    "    #inicio la matriz en ceros    \n",
    "    resultado = [[0 for _ in range(len(b[0]))] for _ in range(len(a))]\n",
    "\n",
    "    # Realize la multiplicación de las matrices\n",
    "    for i in range(len(a)):\n",
    "        for j in range(len(b[0])):\n",
    "            for k in range(len(a[0])):\n",
    "                resultado[i][j] += a[i][k] * b[k][j]\n",
    "\n",
    "    return resultado\n",
    "\n",
    "if __name__ == \"__main__\":\n",
    "#las matrices\n",
    "    a = [[21, 18],\n",
    "        [19, 11],\n",
    "        [12, 15]]\n",
    "    b = [[11, 7, 21],\n",
    "        [9, 15, 25]]\n",
    " #llama la funcion  \n",
    "c = multiplicar_matrices(a, b)\n",
    "#imprime la matriz\n",
    "for fila in c:\n",
    "        print(\"[\", end=\" \")\n",
    "        print(fila, end=\" \")\n",
    "        print(\"]\")"
   ]
  },
  {
   "cell_type": "markdown",
   "metadata": {},
   "source": [
    "### matriz transpuesta"
   ]
  },
  {
   "cell_type": "code",
   "execution_count": 4,
   "metadata": {},
   "outputs": [
    {
     "name": "stdout",
     "output_type": "stream",
     "text": [
      "[ [4.0, 3.0] ]\n",
      "[ [2.0, 4.0] ]\n",
      "[ [3.0, 2.0] ]\n",
      "\n",
      "[ [4.0, 2.0, 3.0] ]\n",
      "[ [3.0, 4.0, 2.0] ]\n"
     ]
    }
   ],
   "source": [
    "def matriz_transpuesta(matriz):\n",
    "    # Creamos una matriz vacía\n",
    "    matriz_usuario = [[0 for i in range(len(matriz[0]))] for j in range(len(matriz))]\n",
    "    #calcular la transpuesta\n",
    "    transpuesta = [[matriz[j][i] for j in range(len(matriz))] for i in range(len(matriz[0]))]\n",
    "    return transpuesta\n",
    "\n",
    "# Solicitar al usuario las dimensiones de la matriz\n",
    "filas = int(input(\"Ingrese el número de filas de la matriz: \"))\n",
    "columnas = int(input(\"Ingrese el número de columnas de la matriz: \"))\n",
    "\n",
    "# Solicitar al usuario los elementos de la matriz\n",
    "matriz_usuario = []\n",
    "for i in range(filas):\n",
    "    fila = [float(input(f\"Ingrese el elemento {i + 1},{j + 1}: \")) for j in range(columnas)]\n",
    "    matriz_usuario.append(fila)\n",
    "\n",
    "# llama la matriz transpuesta\n",
    "obtener_matriz_transpuesta = matriz_transpuesta(matriz_usuario)\n",
    "\n",
    "for fila in matriz_usuario:\n",
    "        print(\"[\", end=\" \")\n",
    "        print(fila, end=\" \")\n",
    "        print(\"]\")\n",
    "print()\n",
    "for fila in obtener_matriz_transpuesta:\n",
    "        print(\"[\", end=\" \")\n",
    "        print(fila, end=\" \")\n",
    "        print(\"]\")\n",
    "\n"
   ]
  },
  {
   "cell_type": "markdown",
   "metadata": {},
   "source": [
    "### sumar elementos de una columna"
   ]
  },
  {
   "cell_type": "code",
   "execution_count": 15,
   "metadata": {},
   "outputs": [
    {
     "name": "stdout",
     "output_type": "stream",
     "text": [
      "Matriz original:\n",
      "[2, 3, 4]\n",
      "[3, 2, 3]\n",
      "[4, 3, 2]\n",
      "[3, 4, 2]\n",
      "\n",
      "La suma de la columna 1 es: 12\n"
     ]
    }
   ],
   "source": [
    "# Importe la biblioteca de funciones matemáticas\n",
    "import math\n",
    "\n",
    "# Solicite al usuario que ingrese el número de filas y columnas de la matriz\n",
    "filas = int(input(\"Ingrese el número de filas de la matriz: \"))\n",
    "columnas = int(input(\"Ingrese el número de columnas de la matriz: \"))\n",
    "\n",
    "# Cree una matriz vacía\n",
    "matriz = [[0 for i in range(columnas)] for j in range(filas)]\n",
    "\n",
    "# Solicite al usuario que ingrese los elementos de la matriz\n",
    "for i in range(filas):\n",
    "    for j in range(columnas):\n",
    "        matriz[i][j] = int(input(\"Ingrese el elemento [{}][{}]: \".format(i, j)))\n",
    "\n",
    "# Solicite al usuario que ingrese la columna a sumar\n",
    "columna = int(input(\"Ingrese la columna a sumar: \"))\n",
    "\n",
    "# inicialize la suma\n",
    "suma = 0\n",
    "\n",
    "# se itera a través de las filas de la matriz\n",
    "for i in range(filas):\n",
    "    # Sumamos el elemento de la fila `i` en la columna `columna`\n",
    "    suma += matriz[i][columna]\n",
    "print(\"Matriz original:\")\n",
    "for i in range(filas):\n",
    "    print(matriz[i])\n",
    "print()\n",
    "# Imprimimos la suma\n",
    "print(\"La suma de la columna {} es: {}\".format(columna, suma))"
   ]
  },
  {
   "cell_type": "markdown",
   "metadata": {},
   "source": [
    "### suma elementos de una fila"
   ]
  },
  {
   "cell_type": "code",
   "execution_count": 30,
   "metadata": {},
   "outputs": [
    {
     "name": "stdout",
     "output_type": "stream",
     "text": [
      "Matriz original:\n",
      "[4, 3, 2]\n",
      "[3, 4, 3]\n",
      "[2, 3, 2]\n",
      "[3, 4, 2]\n",
      "\n",
      "La suma de la fila 0 es: 9\n"
     ]
    }
   ],
   "source": [
    "\n",
    "\n",
    "# Solicitamos al usuario que ingrese el número de filas y columnas de la matriz\n",
    "filas = int(input(\"Ingrese el número de filas de la matriz: \"))\n",
    "columnas = int(input(\"Ingrese el número de columnas de la matriz: \"))\n",
    "\n",
    "# Creamos una matriz vacía\n",
    "matriz = [[0 for i in range(columnas)] for j in range(filas)]\n",
    "\n",
    "# Solicitamos al usuario que ingrese los elementos de la matriz\n",
    "for i in range(filas):\n",
    "    for j in range(columnas):\n",
    "        matriz[i][j] = int(input(\"Ingrese el elemento [{}][{}]: \".format(i, j)))\n",
    "\n",
    "# Solicitamos al usuario que ingrese la fila a sumar\n",
    "fila = int(input(\"Ingrese la fila a sumar: \"))\n",
    "\n",
    "# Inicializamos la suma\n",
    "suma = 0\n",
    "\n",
    "# Iteramos a través de los elementos de la fila\n",
    "for j in range(columnas):\n",
    "    # Sumamos el elemento de la fila `fila` en la columna `j`\n",
    "    suma += matriz[fila][j]\n",
    "\n",
    "# Imprimimos la matriz introducida por el usuario\n",
    "print(\"Matriz original:\")\n",
    "for i in range(filas):\n",
    "    print(matriz[i])\n",
    "print()\n",
    "# Imprimimos la suma, las filas se toman de 0 en adelante \n",
    "print(\"La suma de la fila {} es: {}\".format(fila, suma))"
   ]
  }
 ],
 "metadata": {
  "kernelspec": {
   "display_name": "Python 3",
   "language": "python",
   "name": "python3"
  },
  "language_info": {
   "codemirror_mode": {
    "name": "ipython",
    "version": 3
   },
   "file_extension": ".py",
   "mimetype": "text/x-python",
   "name": "python",
   "nbconvert_exporter": "python",
   "pygments_lexer": "ipython3",
   "version": "3.12.0"
  }
 },
 "nbformat": 4,
 "nbformat_minor": 2
}
